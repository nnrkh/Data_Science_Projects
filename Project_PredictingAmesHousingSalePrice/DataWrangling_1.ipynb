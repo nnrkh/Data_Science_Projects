{
 "cells": [
  {
   "cell_type": "code",
   "execution_count": null,
   "metadata": {},
   "outputs": [],
   "source": [
    "import os\n",
    "import pandas as pd\n",
    "import requests\n",
    "from functools import reduce\n",
    "import matplotlib.pyplot as plt\n",
    "%matplotlib inline"
   ]
  },
  {
   "cell_type": "markdown",
   "metadata": {},
   "source": [
    "Data was downloaded from Kaggle"
   ]
  },
  {
   "cell_type": "code",
   "execution_count": null,
   "metadata": {},
   "outputs": [],
   "source": [
    "os.getcwd()\n",
    "df = pd.read_csv(\"data\\\\train.csv\")"
   ]
  },
  {
   "cell_type": "markdown",
   "metadata": {},
   "source": [
    "Size, data types and summary of the data "
   ]
  },
  {
   "cell_type": "code",
   "execution_count": null,
   "metadata": {},
   "outputs": [],
   "source": [
    "print(df.info)\n",
    "df.describe()"
   ]
  },
  {
   "cell_type": "markdown",
   "metadata": {},
   "source": [
    "The NA's in some columns were replaced based on the data description provided for NA values. Electrical and MasVnrType columns were replaced by the Neighborhood's most common type. Area (in square feet) columns were replaced by the average value in their Neighborhood."
   ]
  },
  {
   "cell_type": "code",
   "execution_count": null,
   "metadata": {},
   "outputs": [],
   "source": [
    "df.columns[df.isna().any()]\n",
    "df.loc[df.MasVnrType == None,['MasVnrType', 'MasVnrArea']]\n",
    "df.loc[df['Electrical'].isna(), :]"
   ]
  },
  {
   "cell_type": "code",
   "execution_count": null,
   "metadata": {},
   "outputs": [],
   "source": [
    "#Lot Frontage\n",
    "df.loc[df.LotFrontage.isna(),['LotFrontage']]\n",
    "df['LotFrontage'] = df.groupby(['Neighborhood'])['LotFrontage'].transform(lambda x: x.fillna(x.mean()))\n",
    "#Mason Veneer Type and Area\n",
    "df.MasVnrType.unique()\n",
    "df.loc[df.MasVnrType == 'None',['MasVnrArea','MasVnrType']]\n",
    "df['MasVnrType'] = df.groupby(['Neighborhood'])['MasVnrType'].transform(lambda x: x.fillna(x.mode().iloc[0]))\n",
    "df['MasVnrArea'] = df.groupby(['Neighborhood','MasVnrType'])['MasVnrArea'].transform(lambda x: x.fillna(x.mean()))"
   ]
  },
  {
   "cell_type": "code",
   "execution_count": null,
   "metadata": {},
   "outputs": [],
   "source": [
    "#Alley, Fireplace, Pool, Fence\n",
    "values = {'Alley': 'No Alley', 'FireplaceQu':'No Fireplace','PoolQC':'No Pool','Fence':'No Fence','MiscFeature':'None'}\n",
    "df.fillna(value = values, inplace = True)\n",
    "#Basement columns\n",
    "bsmt_cols = df.columns[df.columns.str.startswith('Bsmt')]\n",
    "bsmt_obj_cols = bsmt_cols[df[bsmt_cols].dtypes == object]\n",
    "df[bsmt_obj_cols] = df[bsmt_obj_cols].fillna('No Basement')\n",
    "#Garage columns\n",
    "garage_cols = df.columns[df.columns.str.startswith('Garage')]\n",
    "garage_obj_cols = garage_cols[df[garage_cols].dtypes == object]\n",
    "df[garage_obj_cols] = df[garage_obj_cols].fillna('No Garage')"
   ]
  },
  {
   "cell_type": "code",
   "execution_count": null,
   "metadata": {},
   "outputs": [],
   "source": [
    "#Electrical\n",
    "df['Electrical'] = df.groupby(['Neighborhood'])['Electrical'].transform(lambda x: x.fillna(x.mode().iloc[0]))\n",
    "#GarageYearBuilt\n",
    "df.GarageYrBlt.fillna(0, inplace = True)\n",
    "df.columns[df.isna().any()]"
   ]
  },
  {
   "cell_type": "markdown",
   "metadata": {},
   "source": [
    "Data for US new home mortgage rate was downloaded from the bureau of economic analysis website for years 2000-2010."
   ]
  },
  {
   "cell_type": "code",
   "execution_count": null,
   "metadata": {},
   "outputs": [],
   "source": [
    "intratedf = pd.read_excel(\"data\\\\InterestRates_govinfo.xls\", header = None)\n",
    "intratedf.head(10)"
   ]
  },
  {
   "cell_type": "code",
   "execution_count": null,
   "metadata": {},
   "outputs": [],
   "source": [
    "intratedf1 = intratedf[[0,11]]\n",
    "intratedf1.columns = ['Year','New_Home_Mortgage_Rate']\n",
    "intrate = intratedf1.iloc[5:15].reset_index(drop = True)\n",
    "intrate"
   ]
  },
  {
   "cell_type": "code",
   "execution_count": null,
   "metadata": {},
   "outputs": [],
   "source": [
    "intrate.dtypes\n",
    "intrate['Year'] = intrate['Year'].astype(float).astype(int)\n",
    "intrate['New_Home_Mortgage_Rate'] = intrate.New_Home_Mortgage_Rate.astype(float)\n",
    "intrate"
   ]
  },
  {
   "cell_type": "markdown",
   "metadata": {},
   "source": [
    "GDP data for Ames, IA was obtained from open data network via API."
   ]
  },
  {
   "cell_type": "code",
   "execution_count": null,
   "metadata": {},
   "outputs": [],
   "source": [
    "url = \"https://odn.data.socrata.com/resource/mkpy-jf3j.json?variable=per_capita_gdp&name=Ames, IA Metro Area\"\n",
    "res = requests.get(url)\n",
    "json = res.json()\n",
    "gdpdf = pd.DataFrame(json).sort_values('year').reset_index()\n",
    "gdp = gdpdf[['year','value']]\n",
    "gdp.columns = ['Year','Per_Capita_GDP']\n",
    "#gdp.loc[:,['Year']] = gdp.Year.astype(int)\n",
    "#gdp.loc[:,['Per_Capita_GDP']] = gdp.Per_Capita_GDP.astype(float)\n",
    "gdp = gdp.astype(int)\n",
    "gdp"
   ]
  },
  {
   "cell_type": "markdown",
   "metadata": {},
   "source": [
    "Population data obtained from US Census Bureau via API for years 2000 - 2010"
   ]
  },
  {
   "cell_type": "code",
   "execution_count": null,
   "metadata": {},
   "outputs": [],
   "source": [
    "url = 'https://api.census.gov/data/2000/pep/int_population?get=GEONAME,POP,DATE_,DATE_DESC&for=place:01855&in=state:19 county:169'\n",
    "res = requests.get(url)\n",
    "json = res.json()\n",
    "json"
   ]
  },
  {
   "cell_type": "code",
   "execution_count": null,
   "metadata": {},
   "outputs": [],
   "source": [
    "popdf1 = pd.DataFrame(json[1:], columns = json[0])\n",
    "popdf1"
   ]
  },
  {
   "cell_type": "code",
   "execution_count": null,
   "metadata": {},
   "outputs": [],
   "source": [
    "popdf = popdf1[['DATE_DESC','POP']]\n",
    "popdf"
   ]
  },
  {
   "cell_type": "code",
   "execution_count": null,
   "metadata": {},
   "outputs": [],
   "source": [
    "popdf.loc[:,'Date'] = popdf.DATE_DESC.apply(lambda val: val.split()[0])\n",
    "Year = pd.to_datetime(popdf.Date).dt.year\n",
    "Pop = popdf.POP.astype(int)"
   ]
  },
  {
   "cell_type": "code",
   "execution_count": null,
   "metadata": {},
   "outputs": [],
   "source": [
    "pop = pd.concat([Year, Pop], axis = 1)\n",
    "pop.columns = ['Year', 'Population']\n",
    "pop"
   ]
  },
  {
   "cell_type": "markdown",
   "metadata": {},
   "source": [
    "Employment statistics data was downloaded from iowaworkforcedevelopment.org"
   ]
  },
  {
   "cell_type": "code",
   "execution_count": null,
   "metadata": {},
   "outputs": [],
   "source": [
    "empdf = pd.read_csv(\"data\\\\Iowa LAUS Data 2020-04_0.csv\")\n",
    "empdf"
   ]
  },
  {
   "cell_type": "code",
   "execution_count": null,
   "metadata": {},
   "outputs": [],
   "source": [
    "empdf.columns\n",
    "empdf.AREATYNAME.unique()\n",
    "filterby = (empdf['AREATYNAME'] == 'Cities') & (empdf['AREANAME'] == 'Ames') & (empdf['YEAR'] > 2000) & (empdf['YEAR'] <= 2010)\n",
    "cols = ['YEAR','MONTH','LABORFORCE','EMP','UNEMP','UNEMPRATE']\n",
    "empdf1 = empdf.loc[filterby, cols]\n",
    "empdf1"
   ]
  },
  {
   "cell_type": "code",
   "execution_count": null,
   "metadata": {},
   "outputs": [],
   "source": [
    "empdf1.groupby('YEAR')['MONTH'].nunique()\n",
    "emp = empdf1.groupby('YEAR').mean().loc[:,['LABORFORCE','UNEMPRATE']].round(1).reset_index()\n",
    "emp.columns = ['Year','Labor_Force','Unemployment_Rate']\n",
    "emp.loc[:,['Labor_Force']] = emp.Labor_Force.astype(int)\n",
    "emp"
   ]
  },
  {
   "cell_type": "markdown",
   "metadata": {},
   "source": [
    "Median household income data for Story County was downloaded from fred.stlouisfed.org"
   ]
  },
  {
   "cell_type": "code",
   "execution_count": null,
   "metadata": {},
   "outputs": [],
   "source": [
    "incdf = pd.read_csv(\"data\\\\Median_Income_crosstab_Full_Data_data.csv\")\n",
    "incdf"
   ]
  },
  {
   "cell_type": "code",
   "execution_count": null,
   "metadata": {},
   "outputs": [],
   "source": [
    "incdf.columns\n",
    "cols = ['Year', 'Median Household Income']\n",
    "inc = incdf.loc[:,cols]\n",
    "inc.columns = ['Year', 'Median_Household_Income']\n",
    "inc"
   ]
  },
  {
   "cell_type": "code",
   "execution_count": null,
   "metadata": {},
   "outputs": [],
   "source": [
    "dflist = [intrate, gdp, pop, emp, inc]\n",
    "df_external = reduce(lambda x, y: pd.merge(x, y, on = 'Year'), dflist)\n",
    "df_external"
   ]
  },
  {
   "cell_type": "code",
   "execution_count": null,
   "metadata": {},
   "outputs": [],
   "source": []
  }
 ],
 "metadata": {
  "kernelspec": {
   "display_name": "Python 3",
   "language": "python",
   "name": "python3"
  },
  "language_info": {
   "codemirror_mode": {
    "name": "ipython",
    "version": 3
   },
   "file_extension": ".py",
   "mimetype": "text/x-python",
   "name": "python",
   "nbconvert_exporter": "python",
   "pygments_lexer": "ipython3",
   "version": "3.7.6"
  }
 },
 "nbformat": 4,
 "nbformat_minor": 4
}
