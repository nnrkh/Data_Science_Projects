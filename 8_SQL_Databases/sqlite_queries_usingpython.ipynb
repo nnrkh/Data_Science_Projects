{
 "cells": [
  {
   "cell_type": "code",
   "execution_count": null,
   "metadata": {},
   "outputs": [],
   "source": [
    "import os\n",
    "os.getcwd()"
   ]
  },
  {
   "cell_type": "code",
   "execution_count": null,
   "metadata": {},
   "outputs": [],
   "source": [
    "#Alternate way to connect to local instance of sqlite3\n",
    "import sqlite3\n",
    "from sqlite3 import Error\n",
    " \n",
    "def create_connection(db_file):\n",
    "    \"\"\" create a database connection to the SQLite database\n",
    "        specified by the db_file\n",
    "    :param db_file: database file\n",
    "    :return: Connection object or None\n",
    "    \"\"\"\n",
    "    conn = None\n",
    "    try:\n",
    "        conn = sqlite3.connect(db_file)\n",
    "        print(sqlite3.version)\n",
    "    except Error as e:\n",
    "        print(e)\n",
    " \n",
    "    return conn\n",
    " \n",
    "def select_all_tasks(conn):\n",
    "    \"\"\"\n",
    "    Query all rows in the tasks table\n",
    "    :param conn: the Connection object\n",
    "    :return:\n",
    "    \"\"\"\n",
    "    cur = conn.cursor()\n",
    "    \n",
    "    query1 = \"\"\"\n",
    "        SELECT *\n",
    "        FROM FACILITIES\n",
    "        \"\"\"\n",
    "    cur.execute(query1)\n",
    " \n",
    "    rows = cur.fetchall()\n",
    " \n",
    "    for row in rows:\n",
    "        print(row)\n",
    "\n",
    "\n",
    "def main():\n",
    "    database = \"sqlite_db_pythonsqlite.db\"\n",
    " \n",
    "    # create a database connection\n",
    "    conn = create_connection(database)\n",
    "    with conn: \n",
    "        print(\"2. Query all tasks\")\n",
    "        select_all_tasks(conn)\n",
    " \n",
    " \n",
    "if __name__ == '__main__':\n",
    "    main()"
   ]
  },
  {
   "cell_type": "markdown",
   "metadata": {},
   "source": [
    "Produce a list of facilities with a total revenue less than 1000. The output of facility name and total revenue, sorted by revenue. Remember that there's a different cost for guests and members! \n"
   ]
  },
  {
   "cell_type": "code",
   "execution_count": null,
   "metadata": {},
   "outputs": [],
   "source": [
    "import pandas as pd\n",
    "import sqlite3\n",
    "db_file = \"sqlite_db_pythonsqlite.db\"\n",
    "with sqlite3.connect(db_file) as con:\n",
    "    cur = con.cursor()\n",
    "    rs = cur.execute(\"SELECT name AS facility_name, SUM(CASE WHEN memid =0 THEN slots * guestcost ELSE slots * membercost END) AS total_revenue FROM Facilities JOIN Bookings ON Facilities.facid = Bookings.facid GROUP BY name HAVING SUM(CASE WHEN memid =0 THEN slots * guestcost ELSE slots * membercost END ) <1000 ORDER BY total_revenue\")\n",
    "    rows = rs.fetchall()\n",
    "    col_names = rs.description\n",
    "#con.commit\n",
    "#con.close \n",
    "df = pd.DataFrame(rows)\n",
    "df.columns = [tup[0] for tup in col_names]\n",
    "df"
   ]
  },
  {
   "cell_type": "markdown",
   "metadata": {},
   "source": [
    "Produce a list of facilities with a total revenue less than 1000. The output of facility name and total revenue, sorted by revenue. Remember that there's a different cost for guests and members! \n"
   ]
  },
  {
   "cell_type": "code",
   "execution_count": null,
   "metadata": {},
   "outputs": [],
   "source": [
    "with sqlite3.connect(db_file) as con:\n",
    "    cur = con.cursor()\n",
    "    rs = cur.execute(\"SELECT m1.surname AS Surname, m1.firstname AS Firstname, m2.surname AS Recommendedby_Surname, m2.firstname AS Recommendedby_Firstname FROM Members m1 JOIN Members m2 ON m1.recommendedby = m2.memid WHERE m1.memid <>0 ORDER BY m2.surname, m2.firstname\")\n",
    "    rows = rs.fetchall()\n",
    "    col_names = rs.description\n",
    "    \n",
    "df = pd.DataFrame(rows)\n",
    "df.columns = [tup[0] for tup in col_names]\n",
    "df"
   ]
  },
  {
   "cell_type": "markdown",
   "metadata": {},
   "source": [
    "Find the facilities with their usage by member, but not guests."
   ]
  },
  {
   "cell_type": "code",
   "execution_count": null,
   "metadata": {},
   "outputs": [],
   "source": [
    "with sqlite3.connect(db_file) as con:\n",
    "    cur = con.cursor()\n",
    "    rs = cur.execute('SELECT name AS facility_name, SUM( slots ) AS usage_in_slots FROM Bookings JOIN Facilities ON Bookings.facid = Facilities.facid WHERE memid !=0 GROUP BY name')\n",
    "    rows = rs.fetchall()\n",
    "    col_names = rs.description\n",
    "#rs is results    \n",
    "df = pd.DataFrame(rows)\n",
    "df.columns = [tup[0] for tup in col_names]\n",
    "df"
   ]
  },
  {
   "cell_type": "markdown",
   "metadata": {},
   "source": [
    "Find the facilities usage by month, but not guests."
   ]
  },
  {
   "cell_type": "code",
   "execution_count": null,
   "metadata": {},
   "outputs": [],
   "source": [
    "with sqlite3.connect(db_file) as con:\n",
    "    cur = con.cursor()\n",
    "    rs = cur.execute(\"SELECT name AS facility_name, STRFTIME('%m', starttime) AS month , SUM( slots ) AS usage_in_slots FROM Bookings JOIN Facilities ON Bookings.facid = Facilities.facid WHERE memid !=0 GROUP BY name, strftime('%m', starttime )\")\n",
    "    rows = rs.fetchall()\n",
    "    col_names = rs.description\n",
    "    \n",
    "df = pd.DataFrame(rows)\n",
    "df.columns = [tup[0] for tup in col_names]\n",
    "df"
   ]
  }
 ],
 "metadata": {
  "kernelspec": {
   "display_name": "Python 3",
   "language": "python",
   "name": "python3"
  },
  "language_info": {
   "codemirror_mode": {
    "name": "ipython",
    "version": 3
   },
   "file_extension": ".py",
   "mimetype": "text/x-python",
   "name": "python",
   "nbconvert_exporter": "python",
   "pygments_lexer": "ipython3",
   "version": "3.7.6"
  }
 },
 "nbformat": 4,
 "nbformat_minor": 4
}
